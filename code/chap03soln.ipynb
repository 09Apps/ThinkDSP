{
 "cells": [
  {
   "cell_type": "markdown",
   "metadata": {},
   "source": [
    "##ThinkDSP\n",
    "\n",
    "This notebook contains code solutions to exercises in Chapter 3: Non-periodic signals\n",
    "\n",
    "Copyright 2015 Allen Downey\n",
    "\n",
    "License: [Creative Commons Attribution 4.0 International](http://creativecommons.org/licenses/by/4.0/)"
   ]
  },
  {
   "cell_type": "code",
   "execution_count": null,
   "metadata": {
    "collapsed": false
   },
   "outputs": [],
   "source": [
    "from __future__ import print_function, division\n",
    "\n",
    "import thinkdsp\n",
    "import thinkplot\n",
    "\n",
    "%matplotlib inline"
   ]
  },
  {
   "cell_type": "markdown",
   "metadata": {},
   "source": [
    "**Exercise 3.2**: Write a class called `SawtoothChirp` that extends `Chirp` and overrides evaluate to generate a sawtooth waveform with frequency that increases (or decreases) linearly."
   ]
  },
  {
   "cell_type": "code",
   "execution_count": null,
   "metadata": {
    "collapsed": false
   },
   "outputs": [],
   "source": [
    "import math\n",
    "PI2 = 2 * math.pi\n",
    "\n",
    "class SawtoothChirp(thinkdsp.Chirp):\n",
    "    \"\"\"Represents a sawtooth signal with varying frequency.\"\"\"\n",
    "\n",
    "    def _evaluate(self, ts, freqs):\n",
    "        \"\"\"Helper function that evaluates the signal.\n",
    "\n",
    "        ts: float array of times\n",
    "        freqs: float array of frequencies during each interval\n",
    "        \"\"\"\n",
    "        dts = numpy.diff(ts)\n",
    "        dps = PI2 * freqs * dts\n",
    "        phases = numpy.cumsum(dps)\n",
    "        phases = numpy.insert(phases, 0, 0)\n",
    "        cycles = phases / PI2\n",
    "        frac, _ = numpy.modf(cycles)\n",
    "        ys = thinkdsp.normalize(thinkdsp.unbias(frac), self.amp)\n",
    "        return ys\n"
   ]
  },
  {
   "cell_type": "markdown",
   "metadata": {},
   "source": [
    "Here's what it sounds like."
   ]
  },
  {
   "cell_type": "code",
   "execution_count": null,
   "metadata": {
    "collapsed": false
   },
   "outputs": [],
   "source": [
    "signal = SawtoothChirp(start=220, end=880)\n",
    "wave = signal.make_wave(duration=2, framerate=10000)\n",
    "wave.apodize()\n",
    "wave.make_audio()"
   ]
  },
  {
   "cell_type": "markdown",
   "metadata": {},
   "source": [
    "And here's the spectrogram."
   ]
  },
  {
   "cell_type": "code",
   "execution_count": null,
   "metadata": {
    "collapsed": false
   },
   "outputs": [],
   "source": [
    "sp = wave.make_spectrogram(1024)\n",
    "sp.plot()\n",
    "thinkplot.config(xlabel='time (s)', ylabel='frequency (Hz)', legend=False)"
   ]
  },
  {
   "cell_type": "markdown",
   "metadata": {},
   "source": [
    "At a relatively low frame rate, you can see the aliased harmonics bouncing off the folding frequency.  And you can hear them as a background hiss.  If you crank up the frame rate, they go away."
   ]
  },
  {
   "cell_type": "markdown",
   "metadata": {},
   "source": [
    "**Exercise 3.3**: In musical terminology, a “glissando” is a note that slides from one pitch to another, so it is similar to a chirp. A trombone player can play a glissando by extending the trombone slide while blowing continuously. As the slide extends, the total length of the tube gets longer, and the resulting pitch is inversely proportional to length."
   ]
  },
  {
   "cell_type": "code",
   "execution_count": null,
   "metadata": {
    "collapsed": false
   },
   "outputs": [],
   "source": [
    "class TromboneGliss(thinkdsp.Chirp):\n",
    "    \"\"\"Represents a trombone-like signal with varying frequency.\"\"\"\n",
    "    \n",
    "    def evaluate(self, ts):\n",
    "        \"\"\"Evaluates the signal at the given times.\n",
    "\n",
    "        ts: float array of times\n",
    "        \n",
    "        returns: float wave array\n",
    "        \"\"\"\n",
    "        l1, l2 = 1.0 / self.start, 1.0 / self.end\n",
    "        lengths = numpy.linspace(l1, l2, len(ts)-1)\n",
    "        freqs = 1 / lengths\n",
    "        return self._evaluate(ts, freqs)"
   ]
  },
  {
   "cell_type": "markdown",
   "metadata": {},
   "source": [
    "Write a function that simulates a trombone glissando from C4 up to F4 and back down to C4. C3 is 262 Hz; F3 is 349 Hz.\n",
    "\n",
    "Assuming that the player moves the slide at a constant speed, how does frequency vary with time? Is a trombone glissando more like a linear or exponential chirp?\n",
    "\n",
    "Here's the first part of the wave:"
   ]
  },
  {
   "cell_type": "code",
   "execution_count": null,
   "metadata": {
    "collapsed": false
   },
   "outputs": [],
   "source": [
    "low = 262\n",
    "high = 340\n",
    "signal = TromboneGliss(high, low)\n",
    "wave1 = signal.make_wave(duration=1)\n",
    "wave1.apodize()\n",
    "wave1.make_audio()"
   ]
  },
  {
   "cell_type": "markdown",
   "metadata": {},
   "source": [
    "And the second part:"
   ]
  },
  {
   "cell_type": "code",
   "execution_count": null,
   "metadata": {
    "collapsed": false
   },
   "outputs": [],
   "source": [
    "signal = TromboneGliss(low, high)\n",
    "wave2 = signal.make_wave(duration=1)\n",
    "wave2.apodize()\n",
    "wave2.make_audio()"
   ]
  },
  {
   "cell_type": "markdown",
   "metadata": {},
   "source": [
    "Putting them together:"
   ]
  },
  {
   "cell_type": "code",
   "execution_count": null,
   "metadata": {
    "collapsed": false
   },
   "outputs": [],
   "source": [
    "wave = wave1 | wave2\n",
    "wave.make_audio()"
   ]
  },
  {
   "cell_type": "markdown",
   "metadata": {},
   "source": [
    "Here's the spectrogram:"
   ]
  },
  {
   "cell_type": "code",
   "execution_count": null,
   "metadata": {
    "collapsed": false
   },
   "outputs": [],
   "source": [
    "sp = wave.make_spectrogram(1024)\n",
    "sp.plot(high=40)"
   ]
  },
  {
   "cell_type": "markdown",
   "metadata": {},
   "source": [
    "**Exercise 3.4**  Find or make a recording of a glissando and plot a spectrogram of the\n",
    "first few seconds.  "
   ]
  },
  {
   "cell_type": "code",
   "execution_count": null,
   "metadata": {
    "collapsed": false
   },
   "outputs": [],
   "source": [
    "wave = thinkdsp.read_wave('72475__rockwehrmann__glissup02.wav')\n",
    "wave.make_audio()"
   ]
  },
  {
   "cell_type": "code",
   "execution_count": null,
   "metadata": {
    "collapsed": false
   },
   "outputs": [],
   "source": [
    "wave.make_spectrogram(512).plot(high=50)"
   ]
  },
  {
   "cell_type": "markdown",
   "metadata": {},
   "source": [
    "**Exercise 3.5**  Make or find a recording of a series of vowel sounds and look at the\n",
    "spectrogram.  Can you identify different vowels?"
   ]
  },
  {
   "cell_type": "code",
   "execution_count": null,
   "metadata": {
    "collapsed": false
   },
   "outputs": [],
   "source": [
    "wave = thinkdsp.read_wave('87778__marcgascon7__vocals.wav')\n",
    "wave.make_audio()"
   ]
  },
  {
   "cell_type": "code",
   "execution_count": null,
   "metadata": {
    "collapsed": false
   },
   "outputs": [],
   "source": [
    "wave.make_spectrogram(512).plot(high=25)"
   ]
  },
  {
   "cell_type": "code",
   "execution_count": null,
   "metadata": {
    "collapsed": true
   },
   "outputs": [],
   "source": []
  }
 ],
 "metadata": {
  "kernelspec": {
   "display_name": "Python 2",
   "language": "python",
   "name": "python2"
  },
  "language_info": {
   "codemirror_mode": {
    "name": "ipython",
    "version": 2
   },
   "file_extension": ".py",
   "mimetype": "text/x-python",
   "name": "python",
   "nbconvert_exporter": "python",
   "pygments_lexer": "ipython2",
   "version": "2.7.10"
  }
 },
 "nbformat": 4,
 "nbformat_minor": 0
}
