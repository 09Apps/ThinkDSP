{
 "metadata": {
  "name": "",
  "signature": "sha256:7dd1ed726087d2415833cf086df2b8c2e234bfd2774a1a0b345fa06b16b110f2"
 },
 "nbformat": 3,
 "nbformat_minor": 0,
 "worksheets": [
  {
   "cells": [
    {
     "cell_type": "code",
     "collapsed": false,
     "input": [
      "import thinkdsp\n",
      "import thinkplot"
     ],
     "language": "python",
     "metadata": {},
     "outputs": []
    },
    {
     "cell_type": "code",
     "collapsed": false,
     "input": [
      "signal = thinkdsp.TriangleSignal(200)\n",
      "duration = signal.period*3\n",
      "segment = signal.make_wave(duration, framerate=10000)\n",
      "segment.plot()"
     ],
     "language": "python",
     "metadata": {},
     "outputs": []
    },
    {
     "cell_type": "code",
     "collapsed": false,
     "input": [
      "segment = signal.make_wave(duration=1, framerate=10000)\n",
      "segment.apodize()\n",
      "segment.make_audio()"
     ],
     "language": "python",
     "metadata": {},
     "outputs": []
    },
    {
     "cell_type": "code",
     "collapsed": false,
     "input": [
      "wave = signal.make_wave(duration=0.5, framerate=10000)\n",
      "spectrum = wave.make_spectrum()\n",
      "spectrum.plot()"
     ],
     "language": "python",
     "metadata": {},
     "outputs": []
    },
    {
     "cell_type": "code",
     "collapsed": false,
     "input": [
      "signal = thinkdsp.SquareSignal(100)\n",
      "duration = signal.period*3\n",
      "segment = signal.make_wave(duration, framerate=10000)\n",
      "segment.plot()"
     ],
     "language": "python",
     "metadata": {},
     "outputs": []
    },
    {
     "cell_type": "code",
     "collapsed": false,
     "input": [
      "segment = signal.make_wave(duration=1, framerate=10000)\n",
      "segment.apodize()\n",
      "segment.make_audio()"
     ],
     "language": "python",
     "metadata": {},
     "outputs": []
    },
    {
     "cell_type": "code",
     "collapsed": false,
     "input": [
      "wave = signal.make_wave(duration=0.5, framerate=10000)\n",
      "spectrum = wave.make_spectrum()\n",
      "spectrum.plot()"
     ],
     "language": "python",
     "metadata": {},
     "outputs": []
    },
    {
     "cell_type": "code",
     "collapsed": false,
     "input": [
      "framerate = 10000\n",
      "\n",
      "signal = thinkdsp.CosSignal(4500)\n",
      "duration = signal.period*5\n",
      "segment = signal.make_wave(duration, framerate=framerate)\n",
      "segment.plot()"
     ],
     "language": "python",
     "metadata": {},
     "outputs": []
    },
    {
     "cell_type": "code",
     "collapsed": false,
     "input": [
      "signal = thinkdsp.CosSignal(5500)\n",
      "segment = signal.make_wave(duration, framerate=framerate)\n",
      "segment.plot()"
     ],
     "language": "python",
     "metadata": {},
     "outputs": []
    },
    {
     "cell_type": "code",
     "collapsed": false,
     "input": [
      "signal = thinkdsp.TriangleSignal(1100)\n",
      "segment = signal.make_wave(duration=0.5, framerate=10000)\n",
      "spectrum = segment.make_spectrum()\n",
      "spectrum.plot()"
     ],
     "language": "python",
     "metadata": {},
     "outputs": []
    },
    {
     "cell_type": "code",
     "collapsed": false,
     "input": [],
     "language": "python",
     "metadata": {},
     "outputs": []
    },
    {
     "cell_type": "code",
     "collapsed": false,
     "input": [],
     "language": "python",
     "metadata": {},
     "outputs": []
    }
   ],
   "metadata": {}
  }
 ]
}