{
 "metadata": {
  "name": "",
  "signature": "sha256:ec2b5773a6be612ba5f09ea339027626b85eec09646b0a7a630cfc8b9b327728"
 },
 "nbformat": 3,
 "nbformat_minor": 0,
 "worksheets": [
  {
   "cells": [
    {
     "cell_type": "markdown",
     "metadata": {},
     "source": [
      "ThinkDSP, by Allen Downey\n",
      "(think-dsp.com)\n",
      "\n",
      "This notebook contains code examples from Chapter 7: Discrete Fourier Transform"
     ]
    },
    {
     "cell_type": "code",
     "collapsed": false,
     "input": [
      "from __future__ import print_function, division\n",
      "\n",
      "import thinkdsp\n",
      "import thinkplot\n",
      "import thinkstats2\n",
      "import math\n",
      "import numpy\n",
      "\n",
      "%precision 3\n",
      "%matplotlib inline\n",
      "\n",
      "PI2 = 2 * math.pi"
     ],
     "language": "python",
     "metadata": {},
     "outputs": [],
     "prompt_number": 2
    },
    {
     "cell_type": "markdown",
     "metadata": {},
     "source": [
      "Here's the definition of ComplexSinusoid"
     ]
    },
    {
     "cell_type": "code",
     "collapsed": false,
     "input": [
      "class ComplexSinusoid(thinkdsp.Sinusoid):\n",
      "    \"\"\"Represents a complex exponential signal.\"\"\"\n",
      "    \n",
      "    def evaluate(self, ts):\n",
      "        \"\"\"Evaluates the signal at the given times.\n",
      "\n",
      "        ts: float array of times\n",
      "        \n",
      "        returns: float wave array\n",
      "        \"\"\"\n",
      "        print(ts)\n",
      "        i = complex(0, 1)\n",
      "        phases = PI2 * self.freq * ts + self.offset\n",
      "        print(phases)\n",
      "        ys = self.amp * numpy.exp(i * phases)\n",
      "        return ys"
     ],
     "language": "python",
     "metadata": {},
     "outputs": [],
     "prompt_number": 3
    },
    {
     "cell_type": "markdown",
     "metadata": {},
     "source": [
      "Here's an example:"
     ]
    },
    {
     "cell_type": "code",
     "collapsed": false,
     "input": [
      "signal = ComplexSinusoid(freq=1, amp=0.6, offset=1)\n",
      "wave = signal.make_wave(duration=1, framerate=4)\n",
      "print(wave.ys)"
     ],
     "language": "python",
     "metadata": {},
     "outputs": [
      {
       "output_type": "stream",
       "stream": "stdout",
       "text": [
        "[ 0.    0.25  0.5   0.75]\n",
        "[ 1.     2.571  4.142  5.712]\n",
        "[ 0.324+0.505j -0.505+0.324j -0.324-0.505j  0.505-0.324j]\n"
       ]
      }
     ],
     "prompt_number": 4
    },
    {
     "cell_type": "markdown",
     "metadata": {},
     "source": [
      "The simplest way to synthesize a mixture of signals is to evaluate the signals and add them up."
     ]
    },
    {
     "cell_type": "code",
     "collapsed": false,
     "input": [
      "def synthesize1(amps, freqs, ts):\n",
      "    components = [thinkdsp.ComplexSinusoid(freq, amp)\n",
      "                  for amp, freq in zip(amps, freqs)]\n",
      "    signal = thinkdsp.SumSignal(*components)\n",
      "    ys = signal.evaluate(ts)\n",
      "    return ys"
     ],
     "language": "python",
     "metadata": {},
     "outputs": [],
     "prompt_number": 5
    },
    {
     "cell_type": "markdown",
     "metadata": {},
     "source": [
      "Here's an example that's a mixture of 4 components."
     ]
    },
    {
     "cell_type": "code",
     "collapsed": false,
     "input": [
      "amps = numpy.array([0.6, 0.25, 0.1, 0.05])\n",
      "freqs = [100, 200, 300, 400]\n",
      "framerate = 11025\n",
      "\n",
      "ts = numpy.linspace(0, 1, framerate)\n",
      "ys = synthesize1(amps, freqs, ts)\n",
      "print(ys)"
     ],
     "language": "python",
     "metadata": {},
     "outputs": [
      {
       "ename": "AttributeError",
       "evalue": "'module' object has no attribute 'ComplexSinusoid'",
       "output_type": "pyerr",
       "traceback": [
        "\u001b[1;31m---------------------------------------------------------------------------\u001b[0m\n\u001b[1;31mAttributeError\u001b[0m                            Traceback (most recent call last)",
        "\u001b[1;32m<ipython-input-6-3cebc0f37203>\u001b[0m in \u001b[0;36m<module>\u001b[1;34m()\u001b[0m\n\u001b[0;32m      4\u001b[0m \u001b[1;33m\u001b[0m\u001b[0m\n\u001b[0;32m      5\u001b[0m \u001b[0mts\u001b[0m \u001b[1;33m=\u001b[0m \u001b[0mnumpy\u001b[0m\u001b[1;33m.\u001b[0m\u001b[0mlinspace\u001b[0m\u001b[1;33m(\u001b[0m\u001b[1;36m0\u001b[0m\u001b[1;33m,\u001b[0m \u001b[1;36m1\u001b[0m\u001b[1;33m,\u001b[0m \u001b[0mframerate\u001b[0m\u001b[1;33m)\u001b[0m\u001b[1;33m\u001b[0m\u001b[0m\n\u001b[1;32m----> 6\u001b[1;33m \u001b[0mys\u001b[0m \u001b[1;33m=\u001b[0m \u001b[0msynthesize1\u001b[0m\u001b[1;33m(\u001b[0m\u001b[0mamps\u001b[0m\u001b[1;33m,\u001b[0m \u001b[0mfreqs\u001b[0m\u001b[1;33m,\u001b[0m \u001b[0mts\u001b[0m\u001b[1;33m)\u001b[0m\u001b[1;33m\u001b[0m\u001b[0m\n\u001b[0m\u001b[0;32m      7\u001b[0m \u001b[1;32mprint\u001b[0m\u001b[1;33m(\u001b[0m\u001b[0mys\u001b[0m\u001b[1;33m)\u001b[0m\u001b[1;33m\u001b[0m\u001b[0m\n",
        "\u001b[1;32m<ipython-input-5-e7881a4be684>\u001b[0m in \u001b[0;36msynthesize1\u001b[1;34m(amps, freqs, ts)\u001b[0m\n\u001b[0;32m      1\u001b[0m \u001b[1;32mdef\u001b[0m \u001b[0msynthesize1\u001b[0m\u001b[1;33m(\u001b[0m\u001b[0mamps\u001b[0m\u001b[1;33m,\u001b[0m \u001b[0mfreqs\u001b[0m\u001b[1;33m,\u001b[0m \u001b[0mts\u001b[0m\u001b[1;33m)\u001b[0m\u001b[1;33m:\u001b[0m\u001b[1;33m\u001b[0m\u001b[0m\n\u001b[0;32m      2\u001b[0m     components = [thinkdsp.ComplexSinusoid(freq, amp)\n\u001b[1;32m----> 3\u001b[1;33m                   for amp, freq in zip(amps, freqs)]\n\u001b[0m\u001b[0;32m      4\u001b[0m     \u001b[0msignal\u001b[0m \u001b[1;33m=\u001b[0m \u001b[0mthinkdsp\u001b[0m\u001b[1;33m.\u001b[0m\u001b[0mSumSignal\u001b[0m\u001b[1;33m(\u001b[0m\u001b[1;33m*\u001b[0m\u001b[0mcomponents\u001b[0m\u001b[1;33m)\u001b[0m\u001b[1;33m\u001b[0m\u001b[0m\n\u001b[0;32m      5\u001b[0m     \u001b[0mys\u001b[0m \u001b[1;33m=\u001b[0m \u001b[0msignal\u001b[0m\u001b[1;33m.\u001b[0m\u001b[0mevaluate\u001b[0m\u001b[1;33m(\u001b[0m\u001b[0mts\u001b[0m\u001b[1;33m)\u001b[0m\u001b[1;33m\u001b[0m\u001b[0m\n",
        "\u001b[1;31mAttributeError\u001b[0m: 'module' object has no attribute 'ComplexSinusoid'"
       ]
      }
     ],
     "prompt_number": 6
    },
    {
     "cell_type": "code",
     "collapsed": false,
     "input": [
      "thinkplot.plot(ts[:500], ys[:500].real)\n",
      "thinkplot.plot(ts[:500], ys[:500].imag)"
     ],
     "language": "python",
     "metadata": {},
     "outputs": []
    },
    {
     "cell_type": "markdown",
     "metadata": {},
     "source": [
      "The real part is a mixture of cosines; the imaginary part is a mixture of sines."
     ]
    },
    {
     "cell_type": "code",
     "collapsed": false,
     "input": [
      "wave = thinkdsp.Wave(ys.real, framerate)\n",
      "wave.make_audio()"
     ],
     "language": "python",
     "metadata": {},
     "outputs": []
    },
    {
     "cell_type": "code",
     "collapsed": false,
     "input": [
      "wave = thinkdsp.Wave(ys.imag, framerate)\n",
      "wave.make_audio()"
     ],
     "language": "python",
     "metadata": {},
     "outputs": []
    },
    {
     "cell_type": "markdown",
     "metadata": {},
     "source": [
      "We can express the same process using matrix multiplication."
     ]
    },
    {
     "cell_type": "code",
     "collapsed": false,
     "input": [
      "PI2 = 2 * math.pi\n",
      "i = complex(0, 1)\n",
      "amps = numpy.array([0.6, 0.25, 0.1, 0.05])\n",
      "\n",
      "def synthesize2(amps, freqs, ts):\n",
      "    args = numpy.outer(ts, freqs)\n",
      "    M = numpy.exp(i * PI2 * args)\n",
      "    ys = numpy.dot(M, amps)\n",
      "    return ys"
     ],
     "language": "python",
     "metadata": {},
     "outputs": []
    },
    {
     "cell_type": "markdown",
     "metadata": {},
     "source": [
      "And it should sound the same."
     ]
    },
    {
     "cell_type": "code",
     "collapsed": false,
     "input": [
      "ys = synthesize2(amps, freqs, ts)\n",
      "print(ys)"
     ],
     "language": "python",
     "metadata": {},
     "outputs": []
    },
    {
     "cell_type": "code",
     "collapsed": false,
     "input": [
      "wave = thinkdsp.Wave(ys.real, framerate)\n",
      "wave.make_audio()"
     ],
     "language": "python",
     "metadata": {},
     "outputs": []
    },
    {
     "cell_type": "markdown",
     "metadata": {},
     "source": [
      "To see the effect of a complex amplitude, we can rotate the amplitudes by 1 radian:"
     ]
    },
    {
     "cell_type": "code",
     "collapsed": false,
     "input": [
      "amps2 = amps * numpy.exp(1j)\n",
      "ys2 = synthesize2(amps2, freqs, ts)\n",
      "\n",
      "n=400\n",
      "thinkplot.plot(ts[:n], ys.real[:n], label=r'$\\phi_0 = 0$')\n",
      "thinkplot.plot(ts[:n], ys2.real[:n], label=r'$\\phi_0 = 1$')\n",
      "thinkplot.config(ylim=[-1.15, 1.05])"
     ],
     "language": "python",
     "metadata": {},
     "outputs": []
    },
    {
     "cell_type": "markdown",
     "metadata": {},
     "source": [
      "The simplest way to analyze a signal---that is, find the amplitude for each component---is to create the same matrix we used for synthesis and then solve the system of linear equations."
     ]
    },
    {
     "cell_type": "code",
     "collapsed": false,
     "input": [
      "def analyze1(ys, freqs, ts):\n",
      "    args = numpy.outer(ts, freqs)\n",
      "    M = numpy.exp(i * PI2 * args)\n",
      "    amps = numpy.linalg.solve(M, ys)\n",
      "    return amps"
     ],
     "language": "python",
     "metadata": {},
     "outputs": []
    },
    {
     "cell_type": "markdown",
     "metadata": {},
     "source": [
      "Using the first 4 values from the wave array, we can recover the amplitudes."
     ]
    },
    {
     "cell_type": "code",
     "collapsed": false,
     "input": [
      "n = len(freqs)\n",
      "amps2 = analyze1(ys[:n], freqs, ts[:n])\n",
      "print(amps2)"
     ],
     "language": "python",
     "metadata": {},
     "outputs": []
    },
    {
     "cell_type": "markdown",
     "metadata": {},
     "source": [
      "If we define the `freqs` from 0 to N-1 and `ts` from 0 to (N-1)/N, we get a unitary matrix. "
     ]
    },
    {
     "cell_type": "code",
     "collapsed": false,
     "input": [
      "N = 4\n",
      "ts = numpy.arange(N) / N\n",
      "freqs = numpy.arange(N)\n",
      "args = numpy.outer(ts, freqs)\n",
      "M = numpy.exp(i * PI2 * args)\n",
      "print(M)"
     ],
     "language": "python",
     "metadata": {},
     "outputs": []
    },
    {
     "cell_type": "markdown",
     "metadata": {},
     "source": [
      "To check whether a matrix is unitary, we can compute $M^* M$, which should be the identity matrix:"
     ]
    },
    {
     "cell_type": "code",
     "collapsed": false,
     "input": [
      "MstarM = M.conj().transpose().dot(M)\n",
      "print(MstarM.real)"
     ],
     "language": "python",
     "metadata": {},
     "outputs": []
    },
    {
     "cell_type": "code",
     "collapsed": false,
     "input": [
      "print(MstarM.imag)"
     ],
     "language": "python",
     "metadata": {},
     "outputs": []
    },
    {
     "cell_type": "markdown",
     "metadata": {},
     "source": [
      "The result is actually $4 I$, so in general we have an extra factor of $N$ to deal with, but that's a minor problem.\n",
      "\n",
      "We can use this result to write a faster version of `analyze1`:\n"
     ]
    },
    {
     "cell_type": "code",
     "collapsed": false,
     "input": [
      "def analyze2(ys, freqs, ts):\n",
      "    args = numpy.outer(ts, freqs)\n",
      "    M = numpy.exp(i * PI2 * args)\n",
      "    amps = M.conj().transpose().dot(ys) / N\n",
      "    return amps"
     ],
     "language": "python",
     "metadata": {},
     "outputs": []
    },
    {
     "cell_type": "code",
     "collapsed": false,
     "input": [
      "N = 4\n",
      "amps = numpy.array([0.6, 0.25, 0.1, 0.05])\n",
      "freqs = numpy.arange(N)\n",
      "ts = numpy.arange(N) / N\n",
      "ys = synthesize2(amps, freqs, ts)\n",
      "\n",
      "amps2 = analyze2(ys, freqs, ts)\n",
      "print(amps2)"
     ],
     "language": "python",
     "metadata": {},
     "outputs": []
    },
    {
     "cell_type": "markdown",
     "metadata": {},
     "source": [
      "Now we can write our own version of DFT:"
     ]
    },
    {
     "cell_type": "code",
     "collapsed": false,
     "input": [
      "def dft(ys):\n",
      "    N = len(ys)\n",
      "    ts = numpy.arange(N) / N\n",
      "    freqs = numpy.arange(N)\n",
      "    args = numpy.outer(ts, freqs)\n",
      "    M = numpy.exp(i * PI2 * args)\n",
      "    amps = M.conj().transpose().dot(ys)\n",
      "    return amps"
     ],
     "language": "python",
     "metadata": {},
     "outputs": []
    },
    {
     "cell_type": "markdown",
     "metadata": {},
     "source": [
      "And compare it to analyze2:"
     ]
    },
    {
     "cell_type": "code",
     "collapsed": false,
     "input": [
      "print(dft(ys))"
     ],
     "language": "python",
     "metadata": {},
     "outputs": []
    },
    {
     "cell_type": "markdown",
     "metadata": {},
     "source": [
      "We can also compare it to `numpy.fft.fft`.  FFT stands for Fast Fourier Transform, which is an even faster implementation of DFT."
     ]
    },
    {
     "cell_type": "code",
     "collapsed": false,
     "input": [
      "print(numpy.fft.fft(ys))"
     ],
     "language": "python",
     "metadata": {},
     "outputs": []
    },
    {
     "cell_type": "markdown",
     "metadata": {},
     "source": [
      "It's close, but off by a factor of $N$.  For historical reasons, the conventional definition of DFT does not divide through by $N$.\n",
      "\n",
      "The inverse DFT is almost the same, except now we have to divide through by $N$."
     ]
    },
    {
     "cell_type": "code",
     "collapsed": false,
     "input": [
      "def idft(amps):\n",
      "    ys = dft(amps) / N\n",
      "    return ys"
     ],
     "language": "python",
     "metadata": {},
     "outputs": []
    },
    {
     "cell_type": "markdown",
     "metadata": {},
     "source": [
      "We can confirm that `dft(idft(amps))` yields `amps`:"
     ]
    },
    {
     "cell_type": "code",
     "collapsed": false,
     "input": [
      "ys = idft(amps)\n",
      "print(dft(ys))"
     ],
     "language": "python",
     "metadata": {},
     "outputs": []
    },
    {
     "cell_type": "code",
     "collapsed": false,
     "input": [],
     "language": "python",
     "metadata": {},
     "outputs": []
    },
    {
     "cell_type": "code",
     "collapsed": false,
     "input": [
      "framerate = 10000\n",
      "signal = thinkdsp.SawtoothSignal(freq=500)\n",
      "wave = signal.make_wave(duration=0.1, framerate=framerate)\n",
      "wave.make_audio()"
     ],
     "language": "python",
     "metadata": {},
     "outputs": []
    },
    {
     "cell_type": "code",
     "collapsed": false,
     "input": [
      "hs = dft(wave.ys)\n",
      "len(wave.ys), len(hs)"
     ],
     "language": "python",
     "metadata": {},
     "outputs": []
    },
    {
     "cell_type": "code",
     "collapsed": false,
     "input": [
      "amps = numpy.absolute(hs)\n",
      "thinkplot.plot(amps)"
     ],
     "language": "python",
     "metadata": {},
     "outputs": []
    },
    {
     "cell_type": "code",
     "collapsed": false,
     "input": [
      "N = len(hs)\n",
      "fs = numpy.arange(N) * framerate / N"
     ],
     "language": "python",
     "metadata": {},
     "outputs": []
    },
    {
     "cell_type": "code",
     "collapsed": false,
     "input": [
      "thinkplot.plot(fs[:N//2+1], amps[:N//2+1])"
     ],
     "language": "python",
     "metadata": {},
     "outputs": []
    },
    {
     "cell_type": "code",
     "collapsed": false,
     "input": [
      "for f, h in zip(fs, hs):\n",
      "    print(f, h)"
     ],
     "language": "python",
     "metadata": {},
     "outputs": []
    },
    {
     "cell_type": "code",
     "collapsed": false,
     "input": [],
     "language": "python",
     "metadata": {},
     "outputs": []
    }
   ],
   "metadata": {}
  }
 ]
}